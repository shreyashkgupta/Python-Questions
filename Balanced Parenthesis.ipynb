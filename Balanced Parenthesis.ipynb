{
 "cells": [
  {
   "cell_type": "markdown",
   "metadata": {},
   "source": [
    "# Balanced Parenthesis"
   ]
  },
  {
   "cell_type": "markdown",
   "metadata": {},
   "source": [
    "Author: Shreyash Gupta"
   ]
  },
  {
   "cell_type": "markdown",
   "metadata": {},
   "source": [
    "### 1. Using stack"
   ]
  },
  {
   "cell_type": "markdown",
   "metadata": {},
   "source": [
    "Define open and close brackets, IN THE SAME ORDER"
   ]
  },
  {
   "cell_type": "code",
   "execution_count": 2,
   "metadata": {},
   "outputs": [],
   "source": [
    "open_brackets = [\"(\", \"{\", \"[\"]\n",
    "close_brackets = [\")\", \"}\", \"]\"]"
   ]
  },
  {
   "cell_type": "markdown",
   "metadata": {},
   "source": [
    "Declare stack as a list"
   ]
  },
  {
   "cell_type": "code",
   "execution_count": 3,
   "metadata": {},
   "outputs": [],
   "source": [
    "stack = []"
   ]
  },
  {
   "cell_type": "markdown",
   "metadata": {},
   "source": [
    "Create a function to check the balancing of parenthesis"
   ]
  },
  {
   "cell_type": "code",
   "execution_count": 4,
   "metadata": {},
   "outputs": [],
   "source": [
    "def bal_check(string):\n",
    "    for bracket in string: \n",
    "        if bracket in open_brackets:\n",
    "            #if bracket is in opening brackets, add it to stack\n",
    "            stack.append(bracket) \n",
    "            \n",
    "        elif bracket in close_brackets: \n",
    "            #if bracket is a closing bracket, get its index, and if and only if the corresponding open bracket is at top, then pop\n",
    "            pos = close_brackets.index(bracket) \n",
    "            #stack[len(stack) - 1] is basically stack[top]\n",
    "            if ((len(stack) > 0) and (open_brackets[pos] == stack[len(stack) - 1])): \n",
    "                stack.pop() \n",
    "            else: \n",
    "                return \"Unbalanced\"\n",
    "    if len(stack) == 0:\n",
    "        #if stack is fully emptied, the string is balanced\n",
    "        return \"Balanced\"\n",
    "  "
   ]
  },
  {
   "cell_type": "markdown",
   "metadata": {},
   "source": [
    "Take user input and call the function"
   ]
  },
  {
   "cell_type": "code",
   "execution_count": 5,
   "metadata": {},
   "outputs": [
    {
     "name": "stdout",
     "output_type": "stream",
     "text": [
      "Enter string of brackets: {([])}()\n",
      "Balanced\n"
     ]
    }
   ],
   "source": [
    "input_string = input(\"Enter string of brackets: \")\n",
    "print(bal_check(input_string))"
   ]
  },
  {
   "cell_type": "markdown",
   "metadata": {},
   "source": [
    "### 2. Using elimination"
   ]
  },
  {
   "cell_type": "code",
   "execution_count": 8,
   "metadata": {},
   "outputs": [],
   "source": [
    "def brack_check(string): \n",
    "    bracket_pairs = ['()', '{}', '[]'] \n",
    "    #if any bracket pair is found in string, which is also defined in bracket pairs.\n",
    "    while any(bracket_pair in string for bracket_pair in bracket_pairs): \n",
    "        #for all brackets in a defined pair replace them by blank.\n",
    "        for br in bracket_pairs: \n",
    "            string = string.replace(br, '') \n",
    "    return not string "
   ]
  },
  {
   "cell_type": "code",
   "execution_count": 10,
   "metadata": {},
   "outputs": [
    {
     "name": "stdout",
     "output_type": "stream",
     "text": [
      "Enter string of brackets: {([])}()\n",
      "Balanced\n"
     ]
    }
   ],
   "source": [
    "input_string = input(\"Enter string of brackets: \")\n",
    "if brack_check(input_string) == True:\n",
    "    print(\"Balanced\")\n",
    "else:\n",
    "    print(\"Unbalanced\")"
   ]
  }
 ],
 "metadata": {
  "kernelspec": {
   "display_name": "Python 3",
   "language": "python",
   "name": "python3"
  },
  "language_info": {
   "codemirror_mode": {
    "name": "ipython",
    "version": 3
   },
   "file_extension": ".py",
   "mimetype": "text/x-python",
   "name": "python",
   "nbconvert_exporter": "python",
   "pygments_lexer": "ipython3",
   "version": "3.7.0"
  }
 },
 "nbformat": 4,
 "nbformat_minor": 2
}
